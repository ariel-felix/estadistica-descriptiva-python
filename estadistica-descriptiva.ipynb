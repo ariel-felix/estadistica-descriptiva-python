{
 "cells": [
  {
   "cell_type": "markdown",
   "id": "d9b7262c",
   "metadata": {},
   "source": [
    "# Estadística Descriptiva: Entendiendo y Aplicando Medidas con Python"
   ]
  },
  {
   "cell_type": "markdown",
   "id": "76a7f4c7",
   "metadata": {},
   "source": [
    "📒  La estadística es la ciencia que se encarga de recolectar, organizar, analizar e interpretar datos para fundamentar la toma de decisiones. Dentro de este campo, la estadística descriptiva es una de las herramientas más fundamentales. Su objetivo es resumir los datos de manera cuantitativa, proporcionando una visión clara y concisa de la información disponible. Por ejemplo, al calcular el promedio, el mínimo y el máximo de las calificaciones de los estudiantes de una clase, estamos utilizando estadísticas descriptivas para comprender el rendimiento general del grupo.\n",
    "\n",
    "Este notebook tiene como objetivo explorar algunas métricas involucradas en la estadística descriptiva, cómo pueden ser utilizadas y visualizadas. Por lo tanto, este no es un análisis completo, sino uno enfocado en aspectos estadísticos, complementando el texto disponible en Medium.\n",
    "\n",
    "Enlace de Medium:\n",
    "\n",
    "Enlace de la fuente de datos: Gym Members Exercise Dataset https://www.kaggle.com/datasets/valakhorasani/gym-members-exercise-dataset"
   ]
  },
  {
   "cell_type": "code",
   "execution_count": 69,
   "id": "2dc69c99",
   "metadata": {},
   "outputs": [],
   "source": [
    "#Importing librarys\n",
    "\n",
    "import pandas as pd\n",
    "import matplotlib.pyplot as plt\n",
    "import seaborn as sns\n",
    "import plotly.express as px\n",
    "import numpy as np\n",
    "from matplotlib.ticker import FuncFormatter\n",
    "\n",
    "plt.style.use('ggplot')\n",
    " \n",
    "from functools import reduce\n",
    "\n",
    "%matplotlib inline\n",
    "\n",
    "import warnings\n",
    "warnings.filterwarnings('ignore')"
   ]
  },
  {
   "cell_type": "code",
   "execution_count": 70,
   "id": "e838080a",
   "metadata": {},
   "outputs": [
    {
     "data": {
      "text/html": [
       "<div>\n",
       "<style scoped>\n",
       "    .dataframe tbody tr th:only-of-type {\n",
       "        vertical-align: middle;\n",
       "    }\n",
       "\n",
       "    .dataframe tbody tr th {\n",
       "        vertical-align: top;\n",
       "    }\n",
       "\n",
       "    .dataframe thead th {\n",
       "        text-align: right;\n",
       "    }\n",
       "</style>\n",
       "<table border=\"1\" class=\"dataframe\">\n",
       "  <thead>\n",
       "    <tr style=\"text-align: right;\">\n",
       "      <th></th>\n",
       "      <th>Age</th>\n",
       "      <th>Gender</th>\n",
       "      <th>Weight (kg)</th>\n",
       "      <th>Height (m)</th>\n",
       "      <th>Max_BPM</th>\n",
       "      <th>Avg_BPM</th>\n",
       "      <th>Resting_BPM</th>\n",
       "      <th>Session_Duration (hours)</th>\n",
       "      <th>Calories_Burned</th>\n",
       "      <th>Workout_Type</th>\n",
       "      <th>Fat_Percentage</th>\n",
       "      <th>Water_Intake (liters)</th>\n",
       "      <th>Workout_Frequency (days/week)</th>\n",
       "      <th>Experience_Level</th>\n",
       "      <th>BMI</th>\n",
       "    </tr>\n",
       "  </thead>\n",
       "  <tbody>\n",
       "    <tr>\n",
       "      <th>0</th>\n",
       "      <td>56</td>\n",
       "      <td>Male</td>\n",
       "      <td>88.3</td>\n",
       "      <td>1.71</td>\n",
       "      <td>180</td>\n",
       "      <td>157</td>\n",
       "      <td>60</td>\n",
       "      <td>1.69</td>\n",
       "      <td>1313.0</td>\n",
       "      <td>Yoga</td>\n",
       "      <td>12.6</td>\n",
       "      <td>3.5</td>\n",
       "      <td>4</td>\n",
       "      <td>3</td>\n",
       "      <td>30.20</td>\n",
       "    </tr>\n",
       "    <tr>\n",
       "      <th>1</th>\n",
       "      <td>46</td>\n",
       "      <td>Female</td>\n",
       "      <td>74.9</td>\n",
       "      <td>1.53</td>\n",
       "      <td>179</td>\n",
       "      <td>151</td>\n",
       "      <td>66</td>\n",
       "      <td>1.30</td>\n",
       "      <td>883.0</td>\n",
       "      <td>HIIT</td>\n",
       "      <td>33.9</td>\n",
       "      <td>2.1</td>\n",
       "      <td>4</td>\n",
       "      <td>2</td>\n",
       "      <td>32.00</td>\n",
       "    </tr>\n",
       "    <tr>\n",
       "      <th>2</th>\n",
       "      <td>32</td>\n",
       "      <td>Female</td>\n",
       "      <td>68.1</td>\n",
       "      <td>1.66</td>\n",
       "      <td>167</td>\n",
       "      <td>122</td>\n",
       "      <td>54</td>\n",
       "      <td>1.11</td>\n",
       "      <td>677.0</td>\n",
       "      <td>Cardio</td>\n",
       "      <td>33.4</td>\n",
       "      <td>2.3</td>\n",
       "      <td>4</td>\n",
       "      <td>2</td>\n",
       "      <td>24.71</td>\n",
       "    </tr>\n",
       "    <tr>\n",
       "      <th>3</th>\n",
       "      <td>25</td>\n",
       "      <td>Male</td>\n",
       "      <td>53.2</td>\n",
       "      <td>1.70</td>\n",
       "      <td>190</td>\n",
       "      <td>164</td>\n",
       "      <td>56</td>\n",
       "      <td>0.59</td>\n",
       "      <td>532.0</td>\n",
       "      <td>Strength</td>\n",
       "      <td>28.8</td>\n",
       "      <td>2.1</td>\n",
       "      <td>3</td>\n",
       "      <td>1</td>\n",
       "      <td>18.41</td>\n",
       "    </tr>\n",
       "    <tr>\n",
       "      <th>4</th>\n",
       "      <td>38</td>\n",
       "      <td>Male</td>\n",
       "      <td>46.1</td>\n",
       "      <td>1.79</td>\n",
       "      <td>188</td>\n",
       "      <td>158</td>\n",
       "      <td>68</td>\n",
       "      <td>0.64</td>\n",
       "      <td>556.0</td>\n",
       "      <td>Strength</td>\n",
       "      <td>29.2</td>\n",
       "      <td>2.8</td>\n",
       "      <td>3</td>\n",
       "      <td>1</td>\n",
       "      <td>14.39</td>\n",
       "    </tr>\n",
       "  </tbody>\n",
       "</table>\n",
       "</div>"
      ],
      "text/plain": [
       "   Age  Gender  Weight (kg)  Height (m)  Max_BPM  Avg_BPM  Resting_BPM  \\\n",
       "0   56    Male         88.3        1.71      180      157           60   \n",
       "1   46  Female         74.9        1.53      179      151           66   \n",
       "2   32  Female         68.1        1.66      167      122           54   \n",
       "3   25    Male         53.2        1.70      190      164           56   \n",
       "4   38    Male         46.1        1.79      188      158           68   \n",
       "\n",
       "   Session_Duration (hours)  Calories_Burned Workout_Type  Fat_Percentage  \\\n",
       "0                      1.69           1313.0         Yoga            12.6   \n",
       "1                      1.30            883.0         HIIT            33.9   \n",
       "2                      1.11            677.0       Cardio            33.4   \n",
       "3                      0.59            532.0     Strength            28.8   \n",
       "4                      0.64            556.0     Strength            29.2   \n",
       "\n",
       "   Water_Intake (liters)  Workout_Frequency (days/week)  Experience_Level  \\\n",
       "0                    3.5                              4                 3   \n",
       "1                    2.1                              4                 2   \n",
       "2                    2.3                              4                 2   \n",
       "3                    2.1                              3                 1   \n",
       "4                    2.8                              3                 1   \n",
       "\n",
       "     BMI  \n",
       "0  30.20  \n",
       "1  32.00  \n",
       "2  24.71  \n",
       "3  18.41  \n",
       "4  14.39  "
      ]
     },
     "execution_count": 70,
     "metadata": {},
     "output_type": "execute_result"
    }
   ],
   "source": [
    "#Importing dataset\n",
    "gym = pd.read_csv('gym_members_exercise_tracking.csv')\n",
    "gym.head(5)"
   ]
  },
  {
   "cell_type": "markdown",
   "id": "d10c354e",
   "metadata": {},
   "source": [
    "#### Medidas de tendencia central "
   ]
  },
  {
   "cell_type": "markdown",
   "id": "a4a78678",
   "metadata": {},
   "source": [
    "Para calcular medidas de tendencia central (Media, Mediana y Moda), utilizamos las siguientes funciones: mean(), median() y mode(), respectivamente.\n",
    "Para ejemplificar, vamos a verificar estas medidas en relación al peso (Weight(kg)):"
   ]
  },
  {
   "cell_type": "code",
   "execution_count": 61,
   "id": "eb8dcfe1",
   "metadata": {},
   "outputs": [
    {
     "name": "stdout",
     "output_type": "stream",
     "text": [
      "Média: 73.85467625899278\n",
      "Mediana: 70.0\n",
      "Moda: 57.7\n"
     ]
    }
   ],
   "source": [
    "media = gym['Weight (kg)'].mean()\n",
    "mediana = gym['Weight (kg)'].median()\n",
    "moda = gym['Weight (kg)'].mode()[0]\n",
    "\n",
    "print(f\"Média: {media}\")\n",
    "print(f\"Mediana: {mediana}\")\n",
    "print(f\"Moda: {moda}\")"
   ]
  },
  {
   "cell_type": "markdown",
   "id": "79d8d4ea",
   "metadata": {},
   "source": [
    "En este caso, el peso promedio en el dataset estudiado es de 73.85 kg, la mediana es de 70 kg y la moda es de 57.7 kg."
   ]
  },
  {
   "cell_type": "code",
   "execution_count": 62,
   "id": "0f02b9bf",
   "metadata": {},
   "outputs": [
    {
     "data": {
      "image/png": "[encoded data removed]",
      "text/plain": [
       "<Figure size 576x432 with 1 Axes>"
      ]
     },
     "metadata": {
      "needs_background": "light"
     },
     "output_type": "display_data"
    }
   ],
   "source": [
    "#Creating histogram\n",
    "plt.figure(figsize=(8,6))\n",
    "sns.histplot(gym['Weight (kg)'], bins=20, color='skyblue')\n",
    "plt.title('Weight (kg) distribution')\n",
    "plt.xlabel('Weight (kg)')\n",
    "plt.ylabel('Frequency')\n",
    "\n",
    "#code to show mean\n",
    "mean_value = gym['Weight (kg)'].mean()\n",
    "plt.axvline(mean_value, color='red', linestyle='dashed', linewidth=1, label=f'Mean: {mean_value:.2f}')\n",
    "plt.legend()\n",
    "\n",
    "plt.show()"
   ]
  },
  {
   "cell_type": "markdown",
   "id": "73fd86af",
   "metadata": {},
   "source": [
    "Con base en los valores y en el gráfico anterior, podemos sacar algunas conclusiones:\n",
    "\n",
    "* Simetría de la distribución: La media y la mediana están cerca una de la otra. Aunque la media y la mediana son cercanas, el hecho de que la media sea ligeramente mayor que la mediana podría indicar una ligera asimetría hacia la derecha (cola más larga hacia la derecha). Esto significa que hay algunos valores más altos que están empujando la media hacia arriba, pero no lo suficiente como para causar una gran distorsión.\n",
    "\n",
    "* Concentración del peso: Dado que la moda es 57.7 kg, esto indica que hay un pico en la frecuencia de personas con 57.7 kg en el conjunto de datos. Aunque la moda sea 57.7 kg, la media y la mediana son mayores (73.85 kg y 70.0 kg, respectivamente). Esto sugiere que, aunque 57.7 kg sea el valor más frecuente, la mayoría de los datos se concentra en pesos más altos.\n",
    "\n",
    "* Presencia de outliers: Si hubiera una gran diferencia entre la media y la mediana, esto podría indicar la presencia de valores atípicos (outliers) que están afectando la media. Sin embargo, como la media y la mediana son cercanas, esto sugiere que los datos están relativamente uniformemente distribuidos alrededor de la mediana.\n",
    "Nota: La mediana no cambia, pero la media podría desplazarse debido a un outlier."
   ]
  },
  {
   "cell_type": "markdown",
   "id": "7899c8b4",
   "metadata": {},
   "source": [
    "#### Medidas de dispersión"
   ]
  },
  {
   "cell_type": "markdown",
   "id": "7a945d76",
   "metadata": {},
   "source": [
    "En cuanto a las medidas de dispersión, utilizaremos las funciones var() para la varianza y std() para la desviación estándar."
   ]
  },
  {
   "cell_type": "code",
   "execution_count": 71,
   "id": "44dff4d0",
   "metadata": {},
   "outputs": [
    {
     "name": "stdout",
     "output_type": "stream",
     "text": [
      "Varianza: 449.7580773899408\n",
      "Desviación estándar: 21.20750049840718\n"
     ]
    }
   ],
   "source": [
    "# Calculating variancy and standar deviation\n",
    "variancia = gym['Weight (kg)'].var()\n",
    "desvio_padrao = gym['Weight (kg)'].std()\n",
    "\n",
    "print(f\"Varianza: {variancia}\")\n",
    "print(f\"Desviación estándar: {desvio_padrao}\")"
   ]
  },
  {
   "cell_type": "markdown",
   "id": "8f846802",
   "metadata": {},
   "source": [
    "En este caso, la raíz cuadrada de 449.75 (varianza) es 21.2 (desviación estándar) kg. Por lo tanto, la mayoría de los pesos están dentro de un intervalo de ± 21.2 kg alrededor de la media, es decir, entre 52.65 kg y 95.06 kg. Podemos visualizar estos valores también con un histograma:"
   ]
  },
  {
   "cell_type": "code",
   "execution_count": 64,
   "id": "f1ee9f1f",
   "metadata": {},
   "outputs": [
    {
     "data": {
      "image/png": "[encoded data removed]",
      "text/plain": [
       "<Figure size 576x432 with 1 Axes>"
      ]
     },
     "metadata": {
      "needs_background": "light"
     },
     "output_type": "display_data"
    }
   ],
   "source": [
    "# Creating histogram\n",
    "plt.figure(figsize=(8, 6))\n",
    "sns.histplot(gym['Weight (kg)'], bins=20, color='skyblue')\n",
    "plt.axvline(media, color='red', linestyle='dashed', linewidth=2, label=f'Mean: {media:.2f}')\n",
    "plt.axvline(media - desvio_padrao, color='green', linestyle='dotted', linewidth=2, label=f'Mean - 1 std: {media - desvio_padrao:.2f}')\n",
    "plt.axvline(media + desvio_padrao, color='green', linestyle='dotted', linewidth=2, label=f'Mean + 1 std: {media + desvio_padrao:.2f}')\n",
    "plt.title('Weight Distribution with Standard deviation')\n",
    "plt.xlabel('Weight (kg)')\n",
    "plt.ylabel('Frequency')\n",
    "plt.legend()\n",
    "plt.show()"
   ]
  },
  {
   "cell_type": "markdown",
   "id": "70dca487",
   "metadata": {},
   "source": [
    "#### Cuartiles"
   ]
  },
  {
   "cell_type": "code",
   "execution_count": 65,
   "id": "6126d4a2",
   "metadata": {},
   "outputs": [
    {
     "name": "stdout",
     "output_type": "stream",
     "text": [
      "Q1: 58.1, Q2: 70.0, Q3: 86.0\n"
     ]
    }
   ],
   "source": [
    "# Calculating quartiles\n",
    "Q1 = gym['Weight (kg)'].quantile(0.25)\n",
    "Q2 = gym['Weight (kg)'].quantile(0.50)\n",
    "Q3 = gym['Weight (kg)'].quantile(0.75)\n",
    "\n",
    "print(f\"Q1: {Q1}, Q2: {Q2}, Q3: {Q3}\")"
   ]
  },
  {
   "cell_type": "markdown",
   "id": "f593b685",
   "metadata": {},
   "source": [
    "Los cuartiles dividen los datos en cuatro partes iguales.\n",
    "\n",
    "El primer cuartil (Q1) representa el valor por debajo del cual se encuentra el 25% de los datos. En este caso, 25% de los datos están por debajo de 58.1 kg.\n",
    "\n",
    "El segundo cuartil (Q2), que coincide con la mediana, divide los datos en dos partes iguales. Ya habíamos visto que la mediana (Q2) es de 70 kg.\n",
    "\n",
    "El tercer cuartil (Q3) indica el valor por debajo del cual se encuentra el 75% de los datos. En este caso, es de 86 kg. "
   ]
  },
  {
   "cell_type": "code",
   "execution_count": 66,
   "id": "542099c4",
   "metadata": {},
   "outputs": [
    {
     "data": {
      "image/png": "[encoded data removed]",
      "text/plain": [
       "<Figure size 576x432 with 1 Axes>"
      ]
     },
     "metadata": {
      "needs_background": "light"
     },
     "output_type": "display_data"
    }
   ],
   "source": [
    "#Creating boxplot\n",
    "plt.figure(figsize=(8, 6))\n",
    "sns.boxplot(x=gym['Weight (kg)'], color='skyblue')\n",
    "plt.title('Weight (kg) boxplot')\n",
    "plt.xlabel('Weight (kg)')\n",
    "plt.show()"
   ]
  },
  {
   "cell_type": "markdown",
   "id": "d3da6bf7",
   "metadata": {},
   "source": [
    "A través del boxplot, visualizamos que:\n",
    "\n",
    "La mediana (Q2) está en 70 kg.\n",
    "\n",
    "El primer cuartil (Q1) es de 58.1 kg, representando el límite inferior de la caja.\n",
    "\n",
    "El tercer cuartil (Q3) es de 86 kg, representando el límite superior de la caja.\n",
    "\n",
    "Observe que, por encima del límite superior (la línea fuera de la caja), hay algunos valores, lo que indica la presencia de valores extremos (outliers)."
   ]
  },
  {
   "cell_type": "code",
   "execution_count": 68,
   "id": "09466d34",
   "metadata": {},
   "outputs": [
    {
     "name": "stdout",
     "output_type": "stream",
     "text": [
      "El límite superior es 127.85 y el límite inferior 16.250000000000007\n"
     ]
    }
   ],
   "source": [
    "#IQR = Q3 - Q1\n",
    "#limite superior = Q3 + 1.5 * IQR\n",
    "#limite inferior = Q1 - 1.5 * IQR\n",
    "\n",
    "\n",
    "IQR = 86 - 58.1\n",
    "limite_superior = 86 + 1.5 * IQR \n",
    "limite_inferior = 58.1 - 1.5 * IQR\n",
    "\n",
    "print(f'El límite superior es {limite_superior} y el límite inferior {limite_inferior}')"
   ]
  },
  {
   "cell_type": "markdown",
   "id": "d5561e7b",
   "metadata": {},
   "source": [
    "Por lo tanto, todos los valores que estén por encima de 127 kg o por debajo de 16.25 kg se consideran outliers."
   ]
  },
  {
   "cell_type": "markdown",
   "id": "e97e61ce",
   "metadata": {},
   "source": [
    "### Conclusión\n",
    "Este cuaderno fue creado con la intención de complementar el material disponible en Medium, demostrando cómo se calculan algunas medidas dentro de la estadística descriptiva y su importancia. Existen otros detalles que pueden ser explorados y profundizados, pero aquí se ha presentado un contenido relacionado con lo que he estado estudiando actualmente y cómo esto puede aplicarse en un análisis de datos."
   ]
  },
  {
   "cell_type": "code",
   "execution_count": null,
   "id": "f663a963",
   "metadata": {},
   "outputs": [],
   "source": []
  }
 ],
 "metadata": {
  "kernelspec": {
   "display_name": "Python 3 (ipykernel)",
   "language": "python",
   "name": "python3"
  },
  "language_info": {
   "codemirror_mode": {
    "name": "ipython",
    "version": 3
   },
   "file_extension": ".py",
   "mimetype": "text/x-python",
   "name": "python",
   "nbconvert_exporter": "python",
   "pygments_lexer": "ipython3",
   "version": "3.9.12"
  }
 },
 "nbformat": 4,
 "nbformat_minor": 5
}
